{
 "cells": [
  {
   "cell_type": "markdown",
   "id": "371e7e8c",
   "metadata": {
    "id": "371e7e8c"
   },
   "source": [
    "## Group 4: Numerical Classification of Heart Disease\n",
    "\n",
    "### Group Members\n",
    "- Jonathan Swanson\n",
    "- Jack Schnair\n",
    "- Zach Sabri\n",
    "- Ishan Patel\n",
    "- Vishal Patel\n",
    "\n",
    "### Description:\n",
    "This program uses various MLP models to conduct ensemble voting. \n",
    "\n",
    "### The steps are as follows:\n",
    "- Load data\n",
    "- Preprocess data\n",
    "    - Normalize data\n",
    "    - Stratify split into train/test\n",
    "    - Oversample minority classes using SMOTE\n",
    "- Visualize data before & after oversampling\n",
    "- Define a function 'results' that prints the train test and validation results of a given model\n",
    "- Create 5 models\n",
    "- Conduct ensemble voting \n",
    "- Print results of a base MLP model, our models, and the ensemble voting\n",
    "\n",
    "### Works Cited\n",
    "- https://scikit-learn.org/stable/tutorial/index.html\n",
    "- https://imbalanced-learn.org/stable/\n",
    "- https://www.pluralsight.com/guides/validating-machine-learning-models-scikit-learn"
   ]
  },
  {
   "cell_type": "markdown",
   "id": "9746a0ac",
   "metadata": {},
   "source": [
    "### Required Dependencies"
   ]
  },
  {
   "cell_type": "code",
   "execution_count": 1,
   "id": "015aa50c",
   "metadata": {
    "id": "015aa50c"
   },
   "outputs": [],
   "source": [
    "import pandas as pd\n",
    "import numpy as np\n",
    "import matplotlib.pyplot as plt\n",
    "\n",
    "from sklearn.preprocessing import Normalizer\n",
    "\n",
    "from sklearn.neural_network import MLPClassifier\n",
    "\n",
    "from sklearn import model_selection\n",
    "from sklearn.model_selection import train_test_split, GridSearchCV\n",
    "from sklearn.metrics import accuracy_score\n",
    "\n",
    "import statistics\n",
    "from statistics import mode\n",
    "from imblearn.over_sampling import SMOTE"
   ]
  },
  {
   "cell_type": "markdown",
   "id": "926e5a8a",
   "metadata": {},
   "source": [
    "### Load data"
   ]
  },
  {
   "cell_type": "code",
   "execution_count": 2,
   "id": "d957fefc",
   "metadata": {
    "colab": {
     "base_uri": "https://localhost:8080/",
     "height": 509
    },
    "id": "d957fefc",
    "outputId": "bfe46e9d-3f28-4504-f9b1-a8533f564349"
   },
   "outputs": [
    {
     "data": {
      "text/html": [
       "<div>\n",
       "<style scoped>\n",
       "    .dataframe tbody tr th:only-of-type {\n",
       "        vertical-align: middle;\n",
       "    }\n",
       "\n",
       "    .dataframe tbody tr th {\n",
       "        vertical-align: top;\n",
       "    }\n",
       "\n",
       "    .dataframe thead th {\n",
       "        text-align: right;\n",
       "    }\n",
       "</style>\n",
       "<table border=\"1\" class=\"dataframe\">\n",
       "  <thead>\n",
       "    <tr style=\"text-align: right;\">\n",
       "      <th></th>\n",
       "      <th>age</th>\n",
       "      <th>sex</th>\n",
       "      <th>cp</th>\n",
       "      <th>trestbps</th>\n",
       "      <th>chol</th>\n",
       "      <th>fbs</th>\n",
       "      <th>restecg</th>\n",
       "      <th>thalach</th>\n",
       "      <th>exang</th>\n",
       "      <th>oldpeak</th>\n",
       "      <th>slope</th>\n",
       "      <th>ca</th>\n",
       "      <th>thal</th>\n",
       "      <th>target</th>\n",
       "    </tr>\n",
       "  </thead>\n",
       "  <tbody>\n",
       "    <tr>\n",
       "      <th>0</th>\n",
       "      <td>52</td>\n",
       "      <td>1</td>\n",
       "      <td>0</td>\n",
       "      <td>125</td>\n",
       "      <td>212</td>\n",
       "      <td>0</td>\n",
       "      <td>1</td>\n",
       "      <td>168</td>\n",
       "      <td>0</td>\n",
       "      <td>1.0</td>\n",
       "      <td>2</td>\n",
       "      <td>2</td>\n",
       "      <td>3</td>\n",
       "      <td>0</td>\n",
       "    </tr>\n",
       "    <tr>\n",
       "      <th>1</th>\n",
       "      <td>53</td>\n",
       "      <td>1</td>\n",
       "      <td>0</td>\n",
       "      <td>140</td>\n",
       "      <td>203</td>\n",
       "      <td>1</td>\n",
       "      <td>0</td>\n",
       "      <td>155</td>\n",
       "      <td>1</td>\n",
       "      <td>3.1</td>\n",
       "      <td>0</td>\n",
       "      <td>0</td>\n",
       "      <td>3</td>\n",
       "      <td>0</td>\n",
       "    </tr>\n",
       "    <tr>\n",
       "      <th>2</th>\n",
       "      <td>70</td>\n",
       "      <td>1</td>\n",
       "      <td>0</td>\n",
       "      <td>145</td>\n",
       "      <td>174</td>\n",
       "      <td>0</td>\n",
       "      <td>1</td>\n",
       "      <td>125</td>\n",
       "      <td>1</td>\n",
       "      <td>2.6</td>\n",
       "      <td>0</td>\n",
       "      <td>0</td>\n",
       "      <td>3</td>\n",
       "      <td>0</td>\n",
       "    </tr>\n",
       "    <tr>\n",
       "      <th>3</th>\n",
       "      <td>61</td>\n",
       "      <td>1</td>\n",
       "      <td>0</td>\n",
       "      <td>148</td>\n",
       "      <td>203</td>\n",
       "      <td>0</td>\n",
       "      <td>1</td>\n",
       "      <td>161</td>\n",
       "      <td>0</td>\n",
       "      <td>0.0</td>\n",
       "      <td>2</td>\n",
       "      <td>1</td>\n",
       "      <td>3</td>\n",
       "      <td>0</td>\n",
       "    </tr>\n",
       "    <tr>\n",
       "      <th>4</th>\n",
       "      <td>62</td>\n",
       "      <td>0</td>\n",
       "      <td>0</td>\n",
       "      <td>138</td>\n",
       "      <td>294</td>\n",
       "      <td>1</td>\n",
       "      <td>1</td>\n",
       "      <td>106</td>\n",
       "      <td>0</td>\n",
       "      <td>1.9</td>\n",
       "      <td>1</td>\n",
       "      <td>3</td>\n",
       "      <td>2</td>\n",
       "      <td>0</td>\n",
       "    </tr>\n",
       "  </tbody>\n",
       "</table>\n",
       "</div>"
      ],
      "text/plain": [
       "   age  sex  cp  trestbps  chol  fbs  restecg  thalach  exang  oldpeak  slope  \\\n",
       "0   52    1   0       125   212    0        1      168      0      1.0      2   \n",
       "1   53    1   0       140   203    1        0      155      1      3.1      0   \n",
       "2   70    1   0       145   174    0        1      125      1      2.6      0   \n",
       "3   61    1   0       148   203    0        1      161      0      0.0      2   \n",
       "4   62    0   0       138   294    1        1      106      0      1.9      1   \n",
       "\n",
       "   ca  thal  target  \n",
       "0   2     3       0  \n",
       "1   0     3       0  \n",
       "2   0     3       0  \n",
       "3   1     3       0  \n",
       "4   3     2       0  "
      ]
     },
     "metadata": {},
     "output_type": "display_data"
    },
    {
     "data": {
      "text/html": [
       "<div>\n",
       "<style scoped>\n",
       "    .dataframe tbody tr th:only-of-type {\n",
       "        vertical-align: middle;\n",
       "    }\n",
       "\n",
       "    .dataframe tbody tr th {\n",
       "        vertical-align: top;\n",
       "    }\n",
       "\n",
       "    .dataframe thead th {\n",
       "        text-align: right;\n",
       "    }\n",
       "</style>\n",
       "<table border=\"1\" class=\"dataframe\">\n",
       "  <thead>\n",
       "    <tr style=\"text-align: right;\">\n",
       "      <th></th>\n",
       "      <th>age</th>\n",
       "      <th>sex</th>\n",
       "      <th>cp</th>\n",
       "      <th>trestbps</th>\n",
       "      <th>chol</th>\n",
       "      <th>fbs</th>\n",
       "      <th>restecg</th>\n",
       "      <th>thalach</th>\n",
       "      <th>exang</th>\n",
       "      <th>oldpeak</th>\n",
       "      <th>slope</th>\n",
       "      <th>ca</th>\n",
       "      <th>thal</th>\n",
       "      <th>target</th>\n",
       "    </tr>\n",
       "  </thead>\n",
       "  <tbody>\n",
       "    <tr>\n",
       "      <th>count</th>\n",
       "      <td>1025.000000</td>\n",
       "      <td>1025.000000</td>\n",
       "      <td>1025.000000</td>\n",
       "      <td>1025.000000</td>\n",
       "      <td>1025.00000</td>\n",
       "      <td>1025.000000</td>\n",
       "      <td>1025.000000</td>\n",
       "      <td>1025.000000</td>\n",
       "      <td>1025.000000</td>\n",
       "      <td>1025.000000</td>\n",
       "      <td>1025.000000</td>\n",
       "      <td>1025.000000</td>\n",
       "      <td>1025.000000</td>\n",
       "      <td>1025.000000</td>\n",
       "    </tr>\n",
       "    <tr>\n",
       "      <th>mean</th>\n",
       "      <td>54.434146</td>\n",
       "      <td>0.695610</td>\n",
       "      <td>0.942439</td>\n",
       "      <td>131.611707</td>\n",
       "      <td>246.00000</td>\n",
       "      <td>0.149268</td>\n",
       "      <td>0.529756</td>\n",
       "      <td>149.114146</td>\n",
       "      <td>0.336585</td>\n",
       "      <td>1.071512</td>\n",
       "      <td>1.385366</td>\n",
       "      <td>0.754146</td>\n",
       "      <td>2.323902</td>\n",
       "      <td>0.513171</td>\n",
       "    </tr>\n",
       "    <tr>\n",
       "      <th>std</th>\n",
       "      <td>9.072290</td>\n",
       "      <td>0.460373</td>\n",
       "      <td>1.029641</td>\n",
       "      <td>17.516718</td>\n",
       "      <td>51.59251</td>\n",
       "      <td>0.356527</td>\n",
       "      <td>0.527878</td>\n",
       "      <td>23.005724</td>\n",
       "      <td>0.472772</td>\n",
       "      <td>1.175053</td>\n",
       "      <td>0.617755</td>\n",
       "      <td>1.030798</td>\n",
       "      <td>0.620660</td>\n",
       "      <td>0.500070</td>\n",
       "    </tr>\n",
       "    <tr>\n",
       "      <th>min</th>\n",
       "      <td>29.000000</td>\n",
       "      <td>0.000000</td>\n",
       "      <td>0.000000</td>\n",
       "      <td>94.000000</td>\n",
       "      <td>126.00000</td>\n",
       "      <td>0.000000</td>\n",
       "      <td>0.000000</td>\n",
       "      <td>71.000000</td>\n",
       "      <td>0.000000</td>\n",
       "      <td>0.000000</td>\n",
       "      <td>0.000000</td>\n",
       "      <td>0.000000</td>\n",
       "      <td>0.000000</td>\n",
       "      <td>0.000000</td>\n",
       "    </tr>\n",
       "    <tr>\n",
       "      <th>25%</th>\n",
       "      <td>48.000000</td>\n",
       "      <td>0.000000</td>\n",
       "      <td>0.000000</td>\n",
       "      <td>120.000000</td>\n",
       "      <td>211.00000</td>\n",
       "      <td>0.000000</td>\n",
       "      <td>0.000000</td>\n",
       "      <td>132.000000</td>\n",
       "      <td>0.000000</td>\n",
       "      <td>0.000000</td>\n",
       "      <td>1.000000</td>\n",
       "      <td>0.000000</td>\n",
       "      <td>2.000000</td>\n",
       "      <td>0.000000</td>\n",
       "    </tr>\n",
       "    <tr>\n",
       "      <th>50%</th>\n",
       "      <td>56.000000</td>\n",
       "      <td>1.000000</td>\n",
       "      <td>1.000000</td>\n",
       "      <td>130.000000</td>\n",
       "      <td>240.00000</td>\n",
       "      <td>0.000000</td>\n",
       "      <td>1.000000</td>\n",
       "      <td>152.000000</td>\n",
       "      <td>0.000000</td>\n",
       "      <td>0.800000</td>\n",
       "      <td>1.000000</td>\n",
       "      <td>0.000000</td>\n",
       "      <td>2.000000</td>\n",
       "      <td>1.000000</td>\n",
       "    </tr>\n",
       "    <tr>\n",
       "      <th>75%</th>\n",
       "      <td>61.000000</td>\n",
       "      <td>1.000000</td>\n",
       "      <td>2.000000</td>\n",
       "      <td>140.000000</td>\n",
       "      <td>275.00000</td>\n",
       "      <td>0.000000</td>\n",
       "      <td>1.000000</td>\n",
       "      <td>166.000000</td>\n",
       "      <td>1.000000</td>\n",
       "      <td>1.800000</td>\n",
       "      <td>2.000000</td>\n",
       "      <td>1.000000</td>\n",
       "      <td>3.000000</td>\n",
       "      <td>1.000000</td>\n",
       "    </tr>\n",
       "    <tr>\n",
       "      <th>max</th>\n",
       "      <td>77.000000</td>\n",
       "      <td>1.000000</td>\n",
       "      <td>3.000000</td>\n",
       "      <td>200.000000</td>\n",
       "      <td>564.00000</td>\n",
       "      <td>1.000000</td>\n",
       "      <td>2.000000</td>\n",
       "      <td>202.000000</td>\n",
       "      <td>1.000000</td>\n",
       "      <td>6.200000</td>\n",
       "      <td>2.000000</td>\n",
       "      <td>4.000000</td>\n",
       "      <td>3.000000</td>\n",
       "      <td>1.000000</td>\n",
       "    </tr>\n",
       "  </tbody>\n",
       "</table>\n",
       "</div>"
      ],
      "text/plain": [
       "               age          sex           cp     trestbps        chol  \\\n",
       "count  1025.000000  1025.000000  1025.000000  1025.000000  1025.00000   \n",
       "mean     54.434146     0.695610     0.942439   131.611707   246.00000   \n",
       "std       9.072290     0.460373     1.029641    17.516718    51.59251   \n",
       "min      29.000000     0.000000     0.000000    94.000000   126.00000   \n",
       "25%      48.000000     0.000000     0.000000   120.000000   211.00000   \n",
       "50%      56.000000     1.000000     1.000000   130.000000   240.00000   \n",
       "75%      61.000000     1.000000     2.000000   140.000000   275.00000   \n",
       "max      77.000000     1.000000     3.000000   200.000000   564.00000   \n",
       "\n",
       "               fbs      restecg      thalach        exang      oldpeak  \\\n",
       "count  1025.000000  1025.000000  1025.000000  1025.000000  1025.000000   \n",
       "mean      0.149268     0.529756   149.114146     0.336585     1.071512   \n",
       "std       0.356527     0.527878    23.005724     0.472772     1.175053   \n",
       "min       0.000000     0.000000    71.000000     0.000000     0.000000   \n",
       "25%       0.000000     0.000000   132.000000     0.000000     0.000000   \n",
       "50%       0.000000     1.000000   152.000000     0.000000     0.800000   \n",
       "75%       0.000000     1.000000   166.000000     1.000000     1.800000   \n",
       "max       1.000000     2.000000   202.000000     1.000000     6.200000   \n",
       "\n",
       "             slope           ca         thal       target  \n",
       "count  1025.000000  1025.000000  1025.000000  1025.000000  \n",
       "mean      1.385366     0.754146     2.323902     0.513171  \n",
       "std       0.617755     1.030798     0.620660     0.500070  \n",
       "min       0.000000     0.000000     0.000000     0.000000  \n",
       "25%       1.000000     0.000000     2.000000     0.000000  \n",
       "50%       1.000000     0.000000     2.000000     1.000000  \n",
       "75%       2.000000     1.000000     3.000000     1.000000  \n",
       "max       2.000000     4.000000     3.000000     1.000000  "
      ]
     },
     "metadata": {},
     "output_type": "display_data"
    }
   ],
   "source": [
    "# Read in CSV\n",
    "df = pd.read_csv('heart.csv')\n",
    "display(df.head())\n",
    "display(df.describe())"
   ]
  },
  {
   "cell_type": "markdown",
   "id": "bc1911f0",
   "metadata": {},
   "source": [
    "### Preprocess data\n",
    "- Set target\n",
    "- Stratify\n",
    "- Normalize\n",
    "- Oversample"
   ]
  },
  {
   "cell_type": "code",
   "execution_count": 3,
   "id": "0862bce2",
   "metadata": {
    "id": "0862bce2",
    "scrolled": true
   },
   "outputs": [],
   "source": [
    "# Removes invalid results\n",
    "df = df[df['thal'] > 0]\n",
    "\n",
    "# Split data into features and target\n",
    "y = df['thal']\n",
    "x = df.drop(['target', 'thal'], axis=1)\n",
    "\n",
    "# Get test and train split\n",
    "xtrain, xtest, ytrain, ytest = train_test_split(x, y, test_size=0.2, random_state=1, stratify=y)\n",
    "\n",
    "# Normalize our dataset without leaking test data\n",
    "scaler = Normalizer()\n",
    "xtrain = scaler.fit_transform(xtrain)\n",
    "xtest = scaler.transform(xtest)\n",
    "\n",
    "# Produces synthetic oversamples\n",
    "sm = SMOTE(sampling_strategy='not majority')\n",
    "xtrain, ytrain = sm.fit_resample(xtrain, ytrain)"
   ]
  },
  {
   "cell_type": "markdown",
   "id": "6ded3a89",
   "metadata": {},
   "source": [
    "### Graphs of data before and after oversampling"
   ]
  },
  {
   "cell_type": "code",
   "execution_count": 4,
   "id": "ToybFNC1eDlP",
   "metadata": {
    "colab": {
     "base_uri": "https://localhost:8080/",
     "height": 338
    },
    "id": "ToybFNC1eDlP",
    "outputId": "6b3dd342-af00-4242-c98e-b4af1de7a0e6"
   },
   "outputs": [
    {
     "data": {
      "text/plain": [
       "Text(0.5, 1.0, 'Diseaese type')"
      ]
     },
     "execution_count": 4,
     "metadata": {},
     "output_type": "execute_result"
    },
    {
     "data": {
      "image/png": "[encoded data removed]",
      "text/plain": [
       "<Figure size 1800x720 with 1 Axes>"
      ]
     },
     "metadata": {
      "needs_background": "light"
     },
     "output_type": "display_data"
    }
   ],
   "source": [
    "# Graph our initial dataset\n",
    "fig = plt.figure(figsize=(25,10))\n",
    "\n",
    "axis2 = fig.add_subplot(222)\n",
    "df['thal'].value_counts().plot(kind='bar', ax=axis2)\n",
    "diseaseTicks = ('not reversible', 'reversible', 'normal')\n",
    "\n",
    "axis2.set_xticklabels(diseaseTicks)\n",
    "axis2.set_xlabel('Disease', size = 50)\n",
    "axis2.set_ylabel('Count', size = 50)\n",
    "axis2.set_title('Diseaese type')"
   ]
  },
  {
   "cell_type": "code",
   "execution_count": 5,
   "id": "ca4ac799",
   "metadata": {},
   "outputs": [
    {
     "data": {
      "text/plain": [
       "Text(0.5, 1.0, 'Oversample class count')"
      ]
     },
     "execution_count": 5,
     "metadata": {},
     "output_type": "execute_result"
    },
    {
     "data": {
      "image/png": "[encoded data removed]",
      "text/plain": [
       "<Figure size 1800x720 with 1 Axes>"
      ]
     },
     "metadata": {
      "needs_background": "light"
     },
     "output_type": "display_data"
    }
   ],
   "source": [
    "# Graph our data after oversampling minority classes\n",
    "fig = plt.figure(figsize=(25,10))\n",
    "\n",
    "axis2 = fig.add_subplot(222)\n",
    "ytrain.value_counts().plot(kind='bar', ax=axis2)\n",
    "diseaseTicks = ('not reversible', 'reversible', 'normal')\n",
    "\n",
    "axis2.set_xticklabels(diseaseTicks)\n",
    "axis2.set_xlabel('Disease', size = 50)\n",
    "axis2.set_ylabel('Count', size = 50)\n",
    "axis2.set_title('Oversample class count')"
   ]
  },
  {
   "cell_type": "markdown",
   "id": "f44000f8",
   "metadata": {},
   "source": [
    "### A function that produces train, test and validate results for each model"
   ]
  },
  {
   "cell_type": "code",
   "execution_count": 6,
   "id": "431fb713",
   "metadata": {
    "id": "431fb713"
   },
   "outputs": [],
   "source": [
    "def results(model):   \n",
    "    # Train results\n",
    "    train_res = model.predict(xtrain)\n",
    "    train_acc = np.round(100*accuracy_score(ytrain, train_res), 2)\n",
    "    \n",
    "    # Test results\n",
    "    model_res = model.predict(xtest)\n",
    "    model_acc = np.round(100*accuracy_score(ytest, model_res), 2)\n",
    "    \n",
    "    # K-Fold Cross validation (src: https://www.pluralsight.com/guides/validating-machine-learning-models-scikit-learn)\n",
    "    kfold = model_selection.KFold(n_splits=5)\n",
    "    results_kfold = model_selection.cross_val_score(model, x, y, cv=kfold)\n",
    "    validation_acc = np.round(100 * results_kfold.mean(), 2)\n",
    "    \n",
    "    print(\"Results for\", model.__class__.__name__)\n",
    "    print(\"\\t Train Accuracy: \", train_acc)\n",
    "    print(\"\\t Test Accuracy: \", model_acc)\n",
    "    print(\"\\t Validation Accuracy: \", validation_acc)\n",
    "    \n",
    "    return (model_res, model_acc, validation_acc)"
   ]
  },
  {
   "cell_type": "markdown",
   "id": "91749937",
   "metadata": {},
   "source": [
    "### Defined 6 Models\n",
    "- A base model with no parameters / is not tunes\n",
    "- One model per group member, each with custom parameters"
   ]
  },
  {
   "cell_type": "code",
   "execution_count": 7,
   "id": "3faae221",
   "metadata": {
    "colab": {
     "base_uri": "https://localhost:8080/"
    },
    "id": "3faae221",
    "outputId": "ecf6fb1d-2ff8-4ea6-8d41-a739ac112c7a"
   },
   "outputs": [
    {
     "name": "stderr",
     "output_type": "stream",
     "text": [
      "C:\\Users\\john\\anaconda3\\envs\\hw5.2\\lib\\site-packages\\sklearn\\neural_network\\_multilayer_perceptron.py:692: ConvergenceWarning: Stochastic Optimizer: Maximum iterations (200) reached and the optimization hasn't converged yet.\n",
      "  warnings.warn(\n"
     ]
    },
    {
     "name": "stdout",
     "output_type": "stream",
     "text": [
      "Results for MLPClassifier\n",
      "\t Train Accuracy:  57.32\n",
      "\t Test Accuracy:  57.84\n",
      "\t Validation Accuracy:  68.87\n"
     ]
    }
   ],
   "source": [
    "# Create a fully connected ANN (MLP)\n",
    "mlp1 = MLPClassifier()\n",
    "mlp1.fit(xtrain, ytrain)\n",
    "\n",
    "# Get the prediction\n",
    "mlp1_predicted, mlp1_acc, mlp1_val = results(mlp1)"
   ]
  },
  {
   "cell_type": "code",
   "execution_count": 8,
   "id": "aac8b6b8",
   "metadata": {
    "colab": {
     "base_uri": "https://localhost:8080/"
    },
    "id": "aac8b6b8",
    "outputId": "221d76e5-3f73-4d80-af27-79b9ff17c629"
   },
   "outputs": [
    {
     "name": "stdout",
     "output_type": "stream",
     "text": [
      "Results for MLPClassifier\n",
      "\t Train Accuracy:  90.88\n",
      "\t Test Accuracy:  78.92\n",
      "\t Validation Accuracy:  93.61\n"
     ]
    }
   ],
   "source": [
    "# Zach's model\n",
    "zach_clf = MLPClassifier(hidden_layer_sizes=(100,350,35),\n",
    "                         activation=\"relu\",\n",
    "                         solver = \"adam\",\n",
    "                         learning_rate = \"constant\",\n",
    "                         batch_size = 10,\n",
    "                         max_iter = 300) # made more iterations. \n",
    "\n",
    "zach_clf.fit(xtrain,ytrain)\n",
    "zach_pred, zach_model_acc, zach_val = results(zach_clf)"
   ]
  },
  {
   "cell_type": "code",
   "execution_count": 9,
   "id": "yjNZcraoH1Sl",
   "metadata": {
    "colab": {
     "base_uri": "https://localhost:8080/"
    },
    "id": "yjNZcraoH1Sl",
    "outputId": "8f5a9307-160c-426f-a30f-d5c029d667ea"
   },
   "outputs": [
    {
     "name": "stdout",
     "output_type": "stream",
     "text": [
      "Results for MLPClassifier\n",
      "\t Train Accuracy:  81.99\n",
      "\t Test Accuracy:  75.0\n",
      "\t Validation Accuracy:  63.25\n"
     ]
    }
   ],
   "source": [
    "# Create a fully connected ANN (MLP)\n",
    "vishal_model = MLPClassifier(hidden_layer_sizes = (150, 125, 100), activation = 'relu',\n",
    "                             max_iter = 350,\n",
    "                             solver = 'adam',\n",
    "                             random_state = 1)\n",
    "vishal_model.fit(xtrain, ytrain)\n",
    "\n",
    "# Get the prediction\n",
    "vishal_patel_predicted, vishal_model_acc, vishal_model_val = results(vishal_model)"
   ]
  },
  {
   "cell_type": "code",
   "execution_count": 10,
   "id": "0EOUOSyqd5U6",
   "metadata": {
    "colab": {
     "base_uri": "https://localhost:8080/"
    },
    "id": "0EOUOSyqd5U6",
    "outputId": "bd1a00d8-e687-413a-8fe7-b9c2a0f78eae"
   },
   "outputs": [
    {
     "name": "stdout",
     "output_type": "stream",
     "text": [
      "Results for MLPClassifier\n",
      "\t Train Accuracy:  98.77\n",
      "\t Test Accuracy:  98.04\n",
      "\t Validation Accuracy:  67.68\n"
     ]
    }
   ],
   "source": [
    "# Ishan's model\n",
    "ishan_model = MLPClassifier(hidden_layer_sizes=(500, 250, 125, 75, 50, 25, 10), \n",
    "                            activation='tanh',\n",
    "                            max_iter=1000,\n",
    "                            solver='adam',\n",
    "                            random_state=1)\n",
    "ishan_model.fit(xtrain, ytrain)\n",
    "\n",
    "ishan_pred, ishan_acc, ishan_val = results(ishan_model)"
   ]
  },
  {
   "cell_type": "markdown",
   "id": "d266dd81",
   "metadata": {},
   "source": [
    "### Important Note: You can skip this cell, it takes a while to run (10-30 minutes)\n",
    "- It uses grid search cv to produce optimal parameters\n",
    "- The output changes from run to run, so I saved results that worked well for me"
   ]
  },
  {
   "cell_type": "code",
   "execution_count": null,
   "id": "IcRJx71VffXN",
   "metadata": {
    "colab": {
     "base_uri": "https://localhost:8080/",
     "height": 87
    },
    "id": "IcRJx71VffXN",
    "outputId": "2a5c74cd-589b-49fa-e606-fc6426792a58"
   },
   "outputs": [],
   "source": [
    "# Jonathan's model\n",
    "\n",
    "# List of parameters for the GridSearch to test/search\n",
    "params = {\n",
    "    'activation': ['identity', 'logistic', 'tanh', 'relu'],\n",
    "    'solver': ['sgd', 'adam'],\n",
    "    'learning_rate': ['constant', 'invscaling', 'adaptive'],\n",
    "    'max_iter': [500, 1000, 2000]\n",
    "}\n",
    "\n",
    "# Base MLP that the grid search uses to test parameters\n",
    "base_mlp = MLPClassifier()\n",
    "\n",
    "# Use grid search to find the 'best' parameters for accuracy\n",
    "gs = GridSearchCV(estimator=base_mlp, param_grid=params, cv=3, verbose=True)\n",
    "gs.fit(xtrain, ytrain)\n",
    "\n",
    "# The best parameters found\n",
    "display(gs.bestparams)"
   ]
  },
  {
   "cell_type": "code",
   "execution_count": 31,
   "id": "udZNa-cQfuMT",
   "metadata": {
    "colab": {
     "base_uri": "https://localhost:8080/"
    },
    "id": "udZNa-cQfuMT",
    "outputId": "c9813db6-563a-4b11-cba2-c481cca187d6"
   },
   "outputs": [
    {
     "name": "stdout",
     "output_type": "stream",
     "text": [
      "Results for MLPClassifier\n",
      "\t Train Accuracy:  98.62\n",
      "\t Test Accuracy:  94.12\n",
      "\t Validation Accuracy:  69.84\n"
     ]
    }
   ],
   "source": [
    "# Jonathan's model continued \n",
    "\n",
    "# Previous best parameters\n",
    "saved_best_params = {'activation': 'tanh', 'learning_rate': 'adaptive', 'max_iter': 500, 'solver': 'adam'}\n",
    "\n",
    "# Jonathan's MLP using GSCV results\n",
    "jds_mlp = MLPClassifier(**saved_best_params, hidden_layer_sizes=(300, 200, 100, 50))\n",
    "jds_mlp.fit(xtrain, ytrain)\n",
    "\n",
    "jds_predicted, jds_acc, jds_val = results(jds_mlp)"
   ]
  },
  {
   "cell_type": "code",
   "execution_count": 12,
   "id": "B8U2yODEgeVc",
   "metadata": {
    "colab": {
     "base_uri": "https://localhost:8080/"
    },
    "id": "B8U2yODEgeVc",
    "outputId": "5c6498d5-af9c-434c-a5e8-771a3e6d61e8"
   },
   "outputs": [
    {
     "name": "stdout",
     "output_type": "stream",
     "text": [
      "Results for MLPClassifier\n",
      "\t Train Accuracy:  75.63\n",
      "\t Test Accuracy:  70.59\n",
      "\t Validation Accuracy:  72.5\n"
     ]
    }
   ],
   "source": [
    "# Jack's model\n",
    "jack_model = MLPClassifier(hidden_layer_sizes=(200,100,50),\n",
    "                    activation = 'tanh',\n",
    "                    solver = 'adam',\n",
    "                    learning_rate = 'adaptive',\n",
    "                    max_iter = 1000,\n",
    "                )\n",
    "jack_model.fit(xtrain, ytrain)\n",
    "\n",
    "jack_predicted, jack_acc, jack_val = results(jack_model)"
   ]
  },
  {
   "cell_type": "markdown",
   "id": "b1f220d5",
   "metadata": {},
   "source": [
    "### Helper functions for ensemble voting"
   ]
  },
  {
   "cell_type": "code",
   "execution_count": 13,
   "id": "3b3f7f0e",
   "metadata": {
    "id": "3b3f7f0e"
   },
   "outputs": [],
   "source": [
    "# Combines arrays into a array of tuples, useful for voting\n",
    "# combine_arrs([1, 2, 3], [4, 5, 6], [7, 8, 9]) ==> [(1, 4, 7), (2, 5, 8), (3, 6, 9)]\n",
    "def combine_arrs(*args):\n",
    "    arr_of_tuples = []\n",
    "    for i in range(len(args[0])):\n",
    "        arr_of_tuples.append(tuple([arr[i] for arr in args]))\n",
    "    return arr_of_tuples\n",
    "\n",
    "# Returns array of most common vote amongst the models\n",
    "def ensemble_vote(votes_arr):\n",
    "    conclusion = []\n",
    "    for votes in votes_arr:\n",
    "      try: # Pick the most common vote\n",
    "        conclusion.append(mode(votes))\n",
    "      except: # No mode, use most performant model, which is the first in the list (done manually)\n",
    "        conclusion.append(votes[0])\n",
    "      \n",
    "    return conclusion"
   ]
  },
  {
   "cell_type": "markdown",
   "id": "cb5f0cdd",
   "metadata": {},
   "source": [
    "### Combine the votes of each model into an array of tuples\n",
    "- The ith tuple contains the votes of the ith entry for all models"
   ]
  },
  {
   "cell_type": "code",
   "execution_count": 24,
   "id": "9ef84093",
   "metadata": {
    "colab": {
     "base_uri": "https://localhost:8080/"
    },
    "id": "9ef84093",
    "outputId": "08d3fb96-cfee-4953-8da6-8a673832147f"
   },
   "outputs": [
    {
     "name": "stdout",
     "output_type": "stream",
     "text": [
      "[(2, 2, 2, 2, 2), (3, 3, 2, 2, 2), (2, 2, 2, 2, 2), (3, 3, 2, 2, 2), (3, 3, 3, 3, 3)]\n"
     ]
    }
   ],
   "source": [
    "# Combines individual voting arrays into a single array of tuples, \n",
    "# where the ith tuple contains the guesses for the ith entry in xtest\n",
    "ensemble_arr = combine_arrs(ishan_pred, jds_predicted, zach_pred, vishal_patel_predicted, jack_predicted)\n",
    "print(ensemble_arr[:5])"
   ]
  },
  {
   "cell_type": "markdown",
   "id": "84461ce2",
   "metadata": {},
   "source": [
    "### Case a vote\n",
    "- Print some voting results vs actual results"
   ]
  },
  {
   "cell_type": "code",
   "execution_count": 25,
   "id": "40ca5226",
   "metadata": {
    "colab": {
     "base_uri": "https://localhost:8080/"
    },
    "id": "40ca5226",
    "outputId": "3c4cd4f6-ccd4-431b-d87f-041e544e095e"
   },
   "outputs": [
    {
     "name": "stdout",
     "output_type": "stream",
     "text": [
      "[2, 2, 2, 2, 3]\n",
      "[3, 3, 2, 2, 3]\n"
     ]
    }
   ],
   "source": [
    "# Determines the most common vote\n",
    "res_from_vote = ensemble_vote(ensemble_arr)\n",
    "acc_from_vote = np.round(100 * accuracy_score(ytest, res_from_vote), 2)\n",
    "print(res_from_vote[:5])\n",
    "print(list(ytrain[:5].values))"
   ]
  },
  {
   "cell_type": "markdown",
   "id": "79d52fa0",
   "metadata": {},
   "source": [
    "### Print the results of all models & the base model"
   ]
  },
  {
   "cell_type": "code",
   "execution_count": 26,
   "id": "b025bdc0",
   "metadata": {
    "colab": {
     "base_uri": "https://localhost:8080/"
    },
    "id": "b025bdc0",
    "outputId": "4cdf1605-f2b7-4eac-c0d6-47857b5ee0a5"
   },
   "outputs": [
    {
     "name": "stdout",
     "output_type": "stream",
     "text": [
      "TEST ACCURACY RESULTS:\n",
      "\n",
      "Base MLP1 Model\t:  57.84 %\n",
      "\n",
      "Zach's Model\t:  78.92 %\n",
      "Vishal's Model\t:  75.0 %\n",
      "Ishan's Model\t:  98.04 %\n",
      "John's Model\t:  93.63 %\n",
      "Jack's Model\t:  70.59 %\n",
      "\n",
      "Accuracy after ensemble voting:  91.18 %\n"
     ]
    }
   ],
   "source": [
    "# Print out all of our results\n",
    "print(\"TEST ACCURACY RESULTS:\\n\")\n",
    "print(\"Base MLP1 Model\\t: \", mlp1_acc, '%\\n')\n",
    "\n",
    "print(\"Zach's Model\\t: \", zach_model_acc, '%')\n",
    "print(\"Vishal's Model\\t: \", vishal_model_acc, '%')\n",
    "print(\"Ishan's Model\\t: \", ishan_acc, '%')\n",
    "print(\"John's Model\\t: \", jds_acc, '%')\n",
    "print(\"Jack's Model\\t: \", jack_acc, '%\\n')\n",
    "\n",
    "print(\"Accuracy after ensemble voting: \", acc_from_vote, '%')"
   ]
  },
  {
   "cell_type": "markdown",
   "id": "0aa7cb23",
   "metadata": {},
   "source": [
    "### Zach's keras model\n",
    "- This didn't get used due to it conflicting with the sklearn models, but below is additional work he did in keras"
   ]
  },
  {
   "cell_type": "code",
   "execution_count": null,
   "id": "6ceede02",
   "metadata": {},
   "outputs": [],
   "source": [
    "###################################################################################################################\n",
    "#                Zach's cell\n",
    "###################################################################################################################\n",
    "'''\n",
    "This was Zach's original model using keras, which ended up conflicting with the \n",
    "other group members work in sklearn. Its included here to give credit to the extra \n",
    "work he did in keras.\n",
    "\n",
    "from sklearn.preprocessing import LabelEncoder, OneHotEncoder\n",
    "from keras.utils import np_utils\n",
    "from sklearn.preprocessing import StandardScaler\n",
    "import keras\n",
    "\n",
    "X = df.iloc[:,:12]\n",
    "y = df.iloc[:,12]\n",
    "X = X.to_numpy()\n",
    "y = y.to_numpy()\n",
    "for i in range(len(y)):\n",
    "  if y[i]==1:\n",
    "    y[i]=0\n",
    "  elif y[i]==2:\n",
    "    y[i]=1\n",
    "  else:\n",
    "    y[i]=2\n",
    "code = LabelEncoder()\n",
    "code.fit(y)\n",
    "one_hot = code.fit_transform(y)\n",
    "one_hot = np_utils.to_categorical(one_hot)\n",
    "print(X)\n",
    "print(\"-------------------------------------------------------------------------------------------------------------\")\n",
    "print(one_hot)\n",
    "\n",
    "\n",
    "\n",
    "X_train, X_test, y_train, y_test = train_test_split(X,one_hot,test_size = .20, random_state=1)\n",
    "\n",
    "scaler = StandardScaler()\n",
    "X_train = scaler.fit_transform(X_train)\n",
    "X_test = scaler.transform(X_test)\n",
    "print(X_train)\n",
    "print(\"-------------------------------------------------------------------------------------\")\n",
    "print(X_test)\n",
    "\n",
    "\n",
    "\n",
    "\n",
    "count = []\n",
    "normal = 64\n",
    "unreversable = 544\n",
    "reverseable = 410\n",
    "count = np.array([normal,unreversable,reverseable])\n",
    "count.sort()\n",
    "median = np.median(count)\n",
    "\n",
    "MSB_normal = median/normal\n",
    "MSB_unreversable = median/unreversable\n",
    "MSB_reversable = median/reverseable\n",
    "\n",
    "\n",
    "print(f\"The weight for normal is: {MSB_normal}\")\n",
    "print(f\"The weight for unreversable is: {MSB_unreversable}\")\n",
    "print(f\"The weight for reversable is: {MSB_reversable}\")\n",
    "\n",
    "weights = [MSB_normal,MSB_unreversable,MSB_reversable]\n",
    "weights = np.array(weights)\n",
    "\n",
    "\n",
    "\n",
    "\n",
    "\n",
    "zachs_model = keras.models.Sequential()\n",
    "zachs_model.add(keras.layers.Dense(12,activation = \"relu\"))\n",
    "zachs_model.add(keras.layers.Dense(100,activation = \"relu\"))\n",
    "zachs_model.add(keras.layers.Dense(350,activation = \"relu\"))\n",
    "zachs_model.add(keras.layers.Dense(35,activation = \"relu\"))\n",
    "zachs_model.add(keras.layers.Dense(3,activation = \"softmax\"))\n",
    "\n",
    "zachs_model.compile(loss='categorical_crossentropy',optimizer = 'adam',metrics = ['accuracy'])\n",
    "\n",
    "class_weight = {0:weights[0],1:weights[1],2:weights[2]}\n",
    "history = zachs_model.fit(x = X_train,y = y_train,epochs = 35,batch_size = 10, class_weight = class_weight)\n",
    "\n",
    "\n",
    "y_pred = zachs_model.predict(X_test)\n",
    "y_pred_zach = y_pred.argmax(axis = 1)\n",
    "y_test = y_test.argmax(axis = 1)\n",
    "\n",
    "acc = accuracy_score(y_test,y_pred_zach)\n",
    "print(f\"The testing accuracy is : {acc}\")'''"
   ]
  }
 ],
 "metadata": {
  "colab": {
   "collapsed_sections": [],
   "name": "ensemble_voting_update.ipynb",
   "provenance": []
  },
  "kernelspec": {
   "display_name": "Python 3 (ipykernel)",
   "language": "python",
   "name": "python3"
  },
  "language_info": {
   "codemirror_mode": {
    "name": "ipython",
    "version": 3
   },
   "file_extension": ".py",
   "mimetype": "text/x-python",
   "name": "python",
   "nbconvert_exporter": "python",
   "pygments_lexer": "ipython3",
   "version": "3.8.12"
  }
 },
 "nbformat": 4,
 "nbformat_minor": 5
}
